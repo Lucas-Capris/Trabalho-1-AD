{
  "nbformat": 4,
  "nbformat_minor": 0,
  "metadata": {
    "colab": {
      "provenance": []
    },
    "kernelspec": {
      "name": "python3",
      "display_name": "Python 3"
    },
    "language_info": {
      "name": "python"
    }
  },
  "cells": [
    {
      "cell_type": "code",
      "execution_count": 8,
      "metadata": {
        "id": "lLAQuENEOTSl"
      },
      "outputs": [],
      "source": [
        "import random\n",
        "import matplotlib\n",
        "\n",
        "# Inicializando todas as variáveis e funções do programa antes da execução\n",
        "\n",
        "# Constantes\n",
        "INF = 100000000000\n",
        "\n",
        "# Parêmetros de entrada\n",
        "lambd = 1\n",
        "mu = 2\n",
        "rho = lambd/mu\n",
        "maxQueueSize = INF\n",
        "\n",
        "fila = [] # Fila de booleans inicializada com 0 elementos\n",
        "\n",
        "counter = 0 # Contador de ações feitas\n",
        "\n",
        "actionList = [0, 1] # 0 é a ação de entrar um elemento na fila, 1 é a ação de sair um elemento da fila\n",
        "\n",
        "# Define a próxima ação a ser feita\n",
        "def nextAction():\n",
        "  return random.choices(actionList, weights=(lambd, mu), k=1) # Escolha aleatória com pesos proporcionais as entradas, executadas k vezes\n",
        "\n",
        "# Roda a fila por um passo\n",
        "def exec():\n",
        "  if nextAction() == [0]: # Caso a ação seja a entrada de um elemento a fila\n",
        "    if len(fila) >= maxQueueSize: # Se a fila estiver cheia, recusa a chegada\n",
        "      print(\"Cliente recusado\")\n",
        "    else:\n",
        "      fila.append(True) # Inserindo um elemento ao fim da fila\n",
        "  else: # Caso contrário, é a remoção de um elemento da fila\n",
        "    if len(fila) > 0: fila.pop(0) # Caso a fila esteja preenchida (afim de evitar erros), remove o primeiro elemento da fila (FIFO)\n",
        "\n",
        "# Roda a fila por n passos\n",
        "def execIter(n):\n",
        "  counter = 0\n",
        "  while counter < n:\n",
        "    exec()\n",
        "    counter += 1\n",
        "\n",
        "# Roda a fila por n passos; a cada passo, pede confirmação antes de ir para o próximo\n",
        "def execIterStep(n):\n",
        "  a = \"\"\n",
        "  counter = 0\n",
        "  while (a.lower() != \"end\" and counter < n): # Caso seja digitado \"end\", a execução é encerrada\n",
        "    exec()\n",
        "    counter += 1\n",
        "    if a.lower() != \"skip\": # Caso seja digitado \"skip\", a execução para de esperar inputs e termina a sua execução até o n-éssimo passo\n",
        "      print(fila)\n",
        "      a = input()"
      ]
    },
    {
      "cell_type": "code",
      "source": [
        "# Execução do código\n",
        "execIterStep(20)\n",
        "\n",
        "print(fila)\n",
        "\n",
        "# Retornando aos valores iniciais\n",
        "counter = 0\n",
        "fila = []"
      ],
      "metadata": {
        "colab": {
          "base_uri": "https://localhost:8080/"
        },
        "id": "yFncJByRI7_0",
        "outputId": "2dfb4904-9113-4796-85a1-75ddb701aaa5"
      },
      "execution_count": 9,
      "outputs": [
        {
          "output_type": "stream",
          "name": "stdout",
          "text": [
            "[]\n",
            "\n",
            "[]\n",
            "\n",
            "[]\n",
            "\n",
            "[]\n",
            "\n",
            "[]\n",
            "\n",
            "[]\n",
            "\n",
            "[]\n",
            "\n",
            "[]\n",
            "\n",
            "[True]\n",
            "\n",
            "[True, True]\n",
            "end\n",
            "[True, True]\n"
          ]
        }
      ]
    }
  ]
}